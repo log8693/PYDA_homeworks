{
 "cells": [
  {
   "cell_type": "code",
   "execution_count": 1,
   "metadata": {
    "colab": {
     "base_uri": "https://localhost:8080/"
    },
    "id": "CxM7_SYpfyYA",
    "outputId": "3b56bc3e-2311-4133-ae59-e9d3616c0bc3"
   },
   "outputs": [
    {
     "name": "stdout",
     "output_type": "stream",
     "text": [
      "СДР (специальные права заимствования)\n"
     ]
    }
   ],
   "source": [
    "import requests as r\n",
    "\n",
    "Currencies = {}\n",
    "\n",
    "def get_values():\n",
    "    res = r.get('https://www.cbr-xml-daily.ru/daily_json.js')\n",
    "\n",
    "    if res.status_code == 200:\n",
    "        _res = res.json()['Valute']\n",
    "\n",
    "        for currency in _res:\n",
    "            Currencies.update({_res[currency]['Name']: _res[currency]['Value']})\n",
    "\n",
    "        max_currenci = max(Currencies, key=Currencies.get)\n",
    "\n",
    "        print(max_currenci)\n",
    "\n",
    "    else:\n",
    "        return 'Error'\n",
    "\n",
    "get_values()"
   ]
  },
  {
   "cell_type": "code",
   "execution_count": 36,
   "metadata": {
    "colab": {
     "base_uri": "https://localhost:8080/"
    },
    "id": "KWvxntRIpaHb",
    "outputId": "48b999d3-7e0d-43d8-c583-2949af18f78f"
   },
   "outputs": [
    {
     "name": "stdout",
     "output_type": "stream",
     "text": [
      "-0.35609999999999786\n",
      "-0.26260000000000616\n",
      "-0.4706999999999937\n"
     ]
    }
   ],
   "source": [
    "def main():\n",
    "    rate = Rate(False)\n",
    "\n",
    "    print(rate.usd())\n",
    "    print(rate.eur())\n",
    "    print(rate.jpy())\n",
    "\n",
    "if __name__ == '__main__':\n",
    "    main()\n",
    "\n",
    "import requests\n",
    "\n",
    "class Rate:\n",
    "    def __init__(self, diff):\n",
    "        self.diff = diff\n",
    "\n",
    "    def get_exchanges(self):\n",
    "        r = requests.get('https://www.cbr-xml-daily.ru/daily_json.js')\n",
    "        return r.json()['Valute']\n",
    "\n",
    "    def make_format(self, currency):\n",
    "        response = self.get_exchanges()\n",
    "\n",
    "        if currency in response:\n",
    "            if self.diff:\n",
    "                return response[currency]\n",
    "\n",
    "            if not self.diff:\n",
    "                return response[currency]['Value'] - response[currency]['Previous']\n",
    "\n",
    "        return 'error'\n",
    "\n",
    "    def eur(self):\n",
    "        return self.make_format('EUR')\n",
    "\n",
    "    def usd(self):\n",
    "        return self.make_format('USD')\n",
    "\n",
    "    def jpy(self):\n",
    "        return self.make_format('JPY')\n"
   ]
  },
  {
   "cell_type": "code",
   "execution_count": 23,
   "metadata": {
    "colab": {
     "base_uri": "https://localhost:8080/"
    },
    "id": "ja0zPVEWpnsJ",
    "outputId": "9d60223c-41ed-4536-e79d-d333d443696e"
   },
   "outputs": [
    {
     "name": "stdout",
     "output_type": "stream",
     "text": [
      "Александр 2\n",
      "Александр 2\n",
      "Александр 2\n",
      "Александр 2\n",
      "Уровень повышен!\n",
      "Александр 3\n",
      "Александр 3\n",
      "Александр 3\n",
      "Александр 3\n",
      "Александр 3\n",
      "Александр 3\n",
      "Александр 3\n",
      "Уровень повышен!\n",
      "Александр 4\n",
      "Александр 4\n",
      "Александр 4\n",
      "Александр 4\n",
      "Александр 4\n",
      "Александр 4\n",
      "Александр 4\n",
      "Уровень повышен!\n",
      "Александр 5\n",
      "Александр 5\n",
      "Александр 5\n",
      "Александр 5\n",
      "Александр 5\n",
      "Александр 5\n",
      "Александр 5\n",
      "Уровень повышен!\n",
      "Александр 6\n",
      "Александр 6\n",
      "Александр 6\n",
      "Александр 6\n",
      "Александр 6\n",
      "Александр 6\n",
      "Александр 6\n",
      "Уровень повышен!\n",
      "Александр 7\n",
      "Александр 7\n",
      "Александр 7\n",
      "Александр 7\n",
      "Александр 7\n",
      "Александр 7\n",
      "Александр 7\n",
      "Уровень повышен!\n",
      "Александр 8\n",
      "Александр 8\n",
      "Александр 8\n",
      "Александр 8\n",
      "Александр 8\n",
      "Александр 8\n",
      "Александр 8\n",
      "Уровень повышен!\n",
      "Александр 9\n",
      "Александр 9\n",
      "Александр 9\n",
      "Александр 9\n"
     ]
    }
   ],
   "source": [
    "class Employee:\n",
    "    def __init__(self, name, seniority):\n",
    "        self.name = name\n",
    "        self.seniority = seniority\n",
    "        self.grade = 2\n",
    "\n",
    "    def grade_up(self):\n",
    "        self.grade += 1\n",
    "        print('Уровень повышен!')\n",
    "\n",
    "    def publish_grade(self):\n",
    "        print(self.name, self.grade)\n",
    "\n",
    "    def check_if_it_is_time_for_upgrade(self):\n",
    "        pass\n",
    "\n",
    "class Designer(Employee):\n",
    "    def __init__(self, name, experience, prize = 2):\n",
    "        super().__init__(name, experience),\n",
    "        self.prize = prize\n",
    "\n",
    "    def check_if_it_is_time_for_upgrade(self):\n",
    "        self.seniority += 1\n",
    "\n",
    "        if self.seniority % 7 == 0:\n",
    "            self.grade_up()\n",
    "\n",
    "        return self.publish_grade()\n",
    "\n",
    "designer = Designer('Александр', 2)\n",
    "\n",
    "for i in range(50):\n",
    "    designer.check_if_it_is_time_for_upgrade()"
   ]
  }
 ],
 "metadata": {
  "colab": {
   "collapsed_sections": [],
   "name": "Untitled4.ipynb",
   "provenance": []
  },
  "kernelspec": {
   "display_name": "Python 3",
   "language": "python",
   "name": "python3"
  },
  "language_info": {
   "codemirror_mode": {
    "name": "ipython",
    "version": 3
   },
   "file_extension": ".py",
   "mimetype": "text/x-python",
   "name": "python",
   "nbconvert_exporter": "python",
   "pygments_lexer": "ipython3",
   "version": "3.8.3"
  }
 },
 "nbformat": 4,
 "nbformat_minor": 1
}
