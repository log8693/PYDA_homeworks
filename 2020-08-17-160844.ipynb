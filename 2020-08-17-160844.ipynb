{
 "cells": [
  {
   "cell_type": "code",
   "execution_count": 13,
   "metadata": {
    "collapsed": false
   },
   "outputs": [
    {
     "name": "stdout",
     "output_type": "stream",
     "text": [
      "phrase_2 = 640Кб должно хватить для любых задач. Билл Гейтс (по легенде)00\n",
      "Результат:\n",
      "Фраза 2 длиннее фразы 1\n"
     ]
    }
   ],
   "source": [
    "# Задание 1 \n",
    "phrase_1 = 'Насколько проще было бы писать программы, если бы не заказчики'\n",
    "phrase_2 = '640Кб должно хватить для любых задач. Билл Гейтс (по легенде)'\n",
    "if len(phrase_1) > len(phrase_2):\n",
    "    print('phrase_1 =', phrase_1)\n",
    "    print('Результат:')\n",
    "    print('Фраза 1 длиннее фразы 2')\n",
    "elif len(phrase_1) == len(phrase_2):\n",
    "    print('phrase_2 =', phrase_2)\n",
    "    print('phrase_1 =', phrase_1)\n",
    "    print('Результат:')\n",
    "    print('Фразы равной длины')\n",
    "else:\n",
    "    print('phrase_2 =', phrase_2)\n",
    "    print('Результат:')\n",
    "    print('Фраза 2 длиннее фразы 1')\n",
    "    \n",
    "# Задание 2\n",
    "year = int(input())\n",
    "if (year % 4 == 0) and (year % 100 != 0) or (year % 400 == 0):\n",
    "    print('year =', year)\n",
    "    print('Результат: ')\n",
    "    print('Високосный год')\n",
    "else:\n",
    "    print('year =', year)\n",
    "    print('Результат: ')\n",
    "    print('Обычный год')\n",
    "    \n",
    "# Задание\n"
   ]
  },
  {
   "cell_type": "code",
   "execution_count": 0,
   "metadata": {
    "collapsed": false
   },
   "outputs": [
   ],
   "source": [
   ]
  }
 ],
 "metadata": {
  "kernelspec": {
   "display_name": "Python 3 (system-wide)",
   "language": "python",
   "metadata": {
    "cocalc": {
     "description": "Python 3 programming language",
     "priority": 100,
     "url": "https://www.python.org/"
    }
   },
   "name": "python3"
  },
  "language_info": {
   "codemirror_mode": {
    "name": "ipython",
    "version": 3
   },
   "file_extension": ".py",
   "mimetype": "text/x-python",
   "name": "python",
   "nbconvert_exporter": "python",
   "pygments_lexer": "ipython3",
   "version": "3.6.9"
  }
 },
 "nbformat": 4,
 "nbformat_minor": 4
}