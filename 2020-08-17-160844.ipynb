{
 "cells": [
  {
   "cell_type": "code",
   "execution_count": 18,
   "metadata": {
    "collapsed": false
   },
   "outputs": [
    {
     "name": "stdout",
     "output_type": "stream",
     "text": [
      "phrase_1 = Насколько проще было бы писать программы, если бы не заказчики\n",
      "Результат:\n",
      "Фраза 1 длиннее фразы 2\n"
     ]
    }
   ],
   "source": [
    "# Задание 1 \n",
    "phrase_1 = 'Насколько проще было бы писать программы, если бы не заказчики'\n",
    "phrase_2 = '640Кб должно хватить для любых задач. Билл Гейтс (по легенде)'\n",
    "if len(phrase_1) > len(phrase_2):\n",
    "    print('phrase_1 =', phrase_1)\n",
    "    print('Результат:')\n",
    "    print('Фраза 1 длиннее фразы 2')\n",
    "elif len(phrase_1) == len(phrase_2):\n",
    "    print('phrase_2 =', phrase_2)\n",
    "    print('phrase_1 =', phrase_1)\n",
    "    print('Результат:')\n",
    "    print('Фразы равной длины')\n",
    "else:\n",
    "    print('phrase_2 =', phrase_2)\n",
    "    print('Результат:')\n",
    "    print('Фраза 2 длиннее фразы 1')"
   ]
  },
  {
   "cell_type": "code",
   "execution_count": 16,
   "metadata": {
    "cocalc": {
     "outputs": {
      "0": {
       "name": "input",
       "opts": {
        "password": false,
        "prompt": ""
       },
       "output_type": "stream",
       "value": "2020"
      }
     }
    },
    "collapsed": false
   },
   "outputs": [
    {
     "name": "stdout",
     "output_type": "stream",
     "text": " 2020"
    },
    {
     "name": "stdout",
     "output_type": "stream",
     "text": [
      "year = 2020\n",
      "Результат: \n",
      "Високосный год\n"
     ]
    }
   ],
   "source": [
    "# Задание 2\n",
    "year = int(input())\n",
    "if (year % 4 == 0) and (year % 100 != 0) or (year % 400 == 0):\n",
    "    print('year =', year)\n",
    "    print('Результат: ')\n",
    "    print('Високосный год')\n",
    "else:\n",
    "    print('year =', year)\n",
    "    print('Результат: ')\n",
    "    print('Обычный год')"
   ]
  },
  {
   "cell_type": "code",
   "execution_count": 31,
   "metadata": {
    "cocalc": {
     "outputs": {
      "0": {
       "name": "input",
       "opts": {
        "password": false,
        "prompt": "Введите день:"
       },
       "output_type": "stream",
       "value": "29"
      },
      "1": {
       "name": "input",
       "opts": {
        "password": false,
        "prompt": "Введите месяц(напр. 01,04,,12):"
       },
       "output_type": "stream",
       "value": "10"
      },
      "3": {
       "name": "input",
       "opts": {
        "password": false,
        "prompt": "Введите 'zodiac', если хотите попробовать еще раз: "
       },
       "output_type": "stream"
      }
     }
    },
    "collapsed": false
   },
   "outputs": [
    {
     "name": "stdout",
     "output_type": "stream",
     "text": "Введите день: 29"
    },
    {
     "name": "stdout",
     "output_type": "stream",
     "text": "Введите месяц(напр. 01,04,,12): 10"
    },
    {
     "name": "stdout",
     "output_type": "stream",
     "text": [
      "Ваш знак зодиака: Скорпион\n",
      "\n"
     ]
    },
    {
     "name": "stdout",
     "output_type": "stream",
     "text": "Введите 'zodiac', если хотите попробовать еще раз:  "
    }
   ],
   "source": [
    "# Задание 3\n",
    "def again():\n",
    "    print(\"\")\n",
    "    print(\"Пожалуйста, проверьте свой месяц\")\n",
    "    print(\"Месяц должен быть следующим\")\n",
    "    print(\"01 - Январь\")\n",
    "    print(\"02 - Февраль\")\n",
    "    print(\"03 - Март\")\n",
    "    print(\"04 - Апрель\")\n",
    "    print(\"05 - Май\")\n",
    "    print(\"06 - Июнь\")\n",
    "    print(\"07 - Июль\")\n",
    "    print(\"08 - Август\")\n",
    "    print(\"09 - Сентябрь\")\n",
    "    print(\"10 - Октябрь\")\n",
    "    print(\"11 - Ноябрь\")\n",
    "    print(\"12 - Декабрь\")\n",
    "    print(\"\")\n",
    "def zodiac():\n",
    "    day = int(input(\"Введите день:\"))\n",
    "    month = input(\"Введите месяц(напр. 01,04,,12):\")\n",
    "    if (int(month) > 12):\n",
    "        again()\n",
    "        zodiac()\n",
    "    elif month == \"01\":\n",
    "        if (day > 31):\n",
    "            print(\"\")\n",
    "            print(\"Неверная Дата\")\n",
    "            print(\"Пожалуйста, попробуйте еще раз!\")\n",
    "            print(\"\")\n",
    "            zodiac()            \n",
    "        elif (day <= 20):\n",
    "            print(\"Ваш знак зодиака: Козерог\")\n",
    "        else:\n",
    "            print(\"Ваш знак зодиака: Водолей\")\n",
    "    elif month == \"02\":\n",
    "        if (day >28):\n",
    "            print(\"\")\n",
    "            print(\"Неверная Дата\")\n",
    "            print(\"Пожалуйста, попробуйте еще раз!\")\n",
    "            print(\"\")\n",
    "            zodiac()\n",
    "        elif (day <= 18):\n",
    "            print(\"Ваш знак зодиака: Водолей\")\n",
    "        else:\n",
    "            print(\"Ваш знак зодиака: Рыбы\")\n",
    "    elif month == \"03\":\n",
    "        if (day > 31):\n",
    "            print(\"\")\n",
    "            print(\"Неверная Дата\")\n",
    "            print(\"Пожалуйста, попробуйте еще раз!\")\n",
    "            print(\"\")\n",
    "            zodiac()\n",
    "        elif (day <= 20):\n",
    "            print(\"Ваш знак зодиака: Рыбы\")\n",
    "        else:\n",
    "            print(\"Ваш знак зодиака: Овен\")\n",
    "    elif month == \"04\":\n",
    "        if (day > 30):\n",
    "            print(\"\")\n",
    "            print(\"Неверная Дата\")\n",
    "            print(\"Пожалуйста, попробуйте еще раз!\")\n",
    "            print(\"\")\n",
    "            zodiac()\n",
    "        elif (day <= 20):\n",
    "            print(\"Ваш знак зодиака: Овен\")\n",
    "        else:\n",
    "            print(\"Ваш знак зодиака: Телец\")\n",
    "    elif month == \"05\":\n",
    "        if (day > 31):\n",
    "            print(\"\")\n",
    "            print(\"Неверная Дата\")\n",
    "            print(\"Пожалуйста, попробуйте еще раз!\")\n",
    "            print(\"\")\n",
    "            zodiac()\n",
    "        elif (day <= 20):\n",
    "            print(\"Ваш знак зодиака: Телец\")\n",
    "        else:\n",
    "            print(\"Ваш знак зодиака: Близнецы\")\n",
    "    elif month == \"06\":\n",
    "        if (day > 30):\n",
    "            print(\"\")\n",
    "            print(\"Неверная Дата\")\n",
    "            print(\"Пожалуйста, попробуйте еще раз!\")\n",
    "            print(\"\")\n",
    "            zodiac()\n",
    "        elif (day <= 21):\n",
    "            print(\"Ваш знак зодиака: Близнецы\")\n",
    "        else:\n",
    "            print(\"Ваш знак зодиака: Рак\")\n",
    "    elif month == \"07\":\n",
    "        if (day > 31):\n",
    "            print(\"\")\n",
    "            print(\"Неверная Дата\")\n",
    "            print(\"Пожалуйста, попробуйте еще раз!\")\n",
    "            print(\"\")\n",
    "            zodiac()\n",
    "        elif (day <= 22):\n",
    "            print(\"Ваш знак зодиака: Рак\")\n",
    "        else:\n",
    "            print(\"Ваш знак зодиака: Лев\")\n",
    "    elif month == \"08\":\n",
    "        if (day > 31):\n",
    "            print(\"\")\n",
    "            print(\"Неверная Дата\")\n",
    "            print(\"Пожалуйста, попробуйте еще раз!\")\n",
    "            print(\"\")\n",
    "            zodiac()\n",
    "        elif (day <=23):\n",
    "            print(\"Ваш знак зодиака: Лев\")\n",
    "        else:\n",
    "            print(\"Ваш знак зодиака: Дева\")\n",
    "    elif month == \"09\":\n",
    "        if (day > 30):\n",
    "            print(\"\")\n",
    "            print(\"Неверная Дата\")\n",
    "            print(\"Пожалуйста, попробуйте еще раз!\")\n",
    "            print(\"\")\n",
    "            zodiac()\n",
    "        elif (day <= 23):\n",
    "            print(\"Ваш знак зодиака: Дева\")\n",
    "        else:\n",
    "            print(\"Ваш знак зодиака: Весы\")\n",
    "    elif month == \"10\":\n",
    "        if (day > 31):\n",
    "            print(\"\")\n",
    "            print(\"Неверная Дата\")\n",
    "            print(\"Пожалуйста, попробуйте еще раз!\")\n",
    "            print(\"\")\n",
    "            zodiac()\n",
    "        elif (day <= 23):\n",
    "            print(\"Ваш знак зодиака: Весы\")\n",
    "        else:\n",
    "            print(\"Ваш знак зодиака: Скорпион\")\n",
    "    elif month == \"11\":\n",
    "        if (day > 30):\n",
    "            print(\"\")\n",
    "            print(\"Неверная Дата\")\n",
    "            print(\"Пожалуйста, попробуйте еще раз!\")\n",
    "            print(\"\")\n",
    "            zodiac()\n",
    "        elif (day <= 23):\n",
    "            print(\"Ваш знак зодиака: Скорпион\")\n",
    "        else:\n",
    "            print(\"Ваш знак зодиака: Стрелец\")\n",
    "    elif month == \"12\":\n",
    "        if (day > 31):\n",
    "            print(\"\")\n",
    "            print(\"Неверная Дата\")\n",
    "            print(\"Пожалуйста, попробуйте еще раз!\")\n",
    "            print(\"\")\n",
    "            zodiac()\n",
    "        elif (day <= 21):\n",
    "            print(\"Ваш знак зодиака: Стрелец\")\n",
    "        else:\n",
    "            print(\"Ваш знак зодиака: Козерог\")\n",
    "    else:\n",
    "        print(\"\")\n",
    "        again()\n",
    "        zodiac()\n",
    "zodiac()\n",
    "print(\"\")\n",
    "again = input(\"Введите 'zodiac', если хотите попробовать еще раз: \")\n",
    "if (again == \"zodiac\"):\n",
    "    zodiac()"
   ]
  },
  {
   "cell_type": "code",
   "execution_count": 0,
   "metadata": {
    "collapsed": false
   },
   "outputs": [
   ],
   "source": [
    "# Задание 4"
   ]
  }
 ],
 "metadata": {
  "kernelspec": {
   "display_name": "Python 3 (system-wide)",
   "language": "python",
   "metadata": {
    "cocalc": {
     "description": "Python 3 programming language",
     "priority": 100,
     "url": "https://www.python.org/"
    }
   },
   "name": "python3"
  },
  "language_info": {
   "codemirror_mode": {
    "name": "ipython",
    "version": 3
   },
   "file_extension": ".py",
   "mimetype": "text/x-python",
   "name": "python",
   "nbconvert_exporter": "python",
   "pygments_lexer": "ipython3",
   "version": "3.6.9"
  }
 },
 "nbformat": 4,
 "nbformat_minor": 4
}