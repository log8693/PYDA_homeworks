{
 "cells": [
  {
   "cell_type": "code",
   "execution_count": 45,
   "metadata": {
    "cocalc": {
     "outputs": {
      "0": {
       "name": "input",
       "opts": {
        "password": false,
        "prompt": "\nВведите команду: "
       },
       "output_type": "stream",
       "value": "ds"
      },
      "1": {
       "name": "input",
       "opts": {
        "password": false,
        "prompt": "\nВведите номер полки:"
       },
       "output_type": "stream",
       "value": "5"
      },
      "10": {
       "name": "input",
       "opts": {
        "password": false,
        "prompt": "\nВведите команду: "
       },
       "output_type": "stream",
       "value": "q"
      },
      "2": {
       "name": "input",
       "opts": {
        "password": false,
        "prompt": "\nВведите команду: "
       },
       "output_type": "stream",
       "value": "ds"
      },
      "3": {
       "name": "input",
       "opts": {
        "password": false,
        "prompt": "\nВведите команду: "
       },
       "output_type": "stream"
      },
      "4": {
       "name": "input",
       "opts": {
        "password": false,
        "prompt": "\nВведите команду: "
       },
       "output_type": "stream",
       "value": "q"
      },
      "5": {
       "name": "input",
       "opts": {
        "password": false,
        "prompt": "\nВведите команду: "
       },
       "output_type": "stream",
       "value": "q"
      },
      "6": {
       "name": "input",
       "opts": {
        "password": false,
        "prompt": "\nВведите команду: "
       },
       "output_type": "stream",
       "value": "l"
      },
      "8": {
       "name": "input",
       "opts": {
        "password": false,
        "prompt": "\nВведите команду: "
       },
       "output_type": "stream",
       "value": "й"
      }
     }
    },
    "collapsed": false
   },
   "outputs": [
    {
     "name": "stdout",
     "output_type": "stream",
     "text": "\nВведите команду:  ds"
    },
    {
     "name": "stdout",
     "output_type": "stream",
     "text": "\nВведите номер полки: 5"
    },
    {
     "name": "stdout",
     "output_type": "stream",
     "text": "\nВведите команду:  ds"
    },
    {
     "name": "stdout",
     "output_type": "stream",
     "text": "\nВведите команду:  "
    }
   ],
   "source": [
    "documents = [\n",
    " {'type': 'passport', 'number': '2207 876234', 'name': 'Василий Гупкин'},\n",
    " {'type': 'invoice', 'number': '11-2', 'name': 'Геннадий Покемонов'},\n",
    " {'type': 'insurance', 'number': '10006', 'name': 'Аристарх Павлов'}\n",
    "]\n",
    "\n",
    "directories = {\n",
    " '1': ['2207 876234', '11-2'],\n",
    " '2': ['10006'],\n",
    " '3': []\n",
    "}\n",
    "\n",
    "def people(numbers):\n",
    "    for doc_numbers in documents:\n",
    "        if doc_numbers[\"number\"] == numbers:\n",
    "            print('Результат:')\n",
    "            print(f'Владелец документа: {doc_numbers[\"name\"]}')\n",
    "            break\n",
    "    else:\n",
    "        print('Результат:')\n",
    "        print('Документ не найден в базе')\n",
    "\n",
    "def shelf(numbers):\n",
    "    break_marker = False\n",
    "    for shelf_directories in directories.items():\n",
    "        for doc_numbers in shelf_directories[1]:\n",
    "            if doc_numbers == numbers:\n",
    "                print('Документ хранится на полке:', shelf_directories[0])\n",
    "                break_marker = True\n",
    "                break\n",
    "        if break_marker == True:\n",
    "            break\n",
    "    else:\n",
    "        print('Результат:')\n",
    "        print('Документ не найден в базе')\n",
    "\n",
    "def shelf_2(numbers):\n",
    "    for shelf_directories in directories.items():\n",
    "        for doc_numbers in shelf_directories[1]:\n",
    "            if doc_numbers == numbers:\n",
    "                return shelf_directories[0]\n",
    "\n",
    "def people_list():\n",
    "    print('\\nРезультат:')\n",
    "    print('\\n')\n",
    "    for persons in documents:\n",
    "        print(f\"№: {persons['number']}, тип: {persons['type']}, владелец: {persons['name']}, полка хранения: {shelf_2(persons['number'])}\")\n",
    "\n",
    "def as_command(number):\n",
    "    for direct in directories.items():\n",
    "        if number in shelf_directories[0]:\n",
    "            print('\\nРезультат:')\n",
    "            print(f'Такая полка уже существует. Текущий перечень полок: {list(directories.keys())}')\n",
    "            break\n",
    "    else:\n",
    "        directories[number] = []\n",
    "        print('\\nРезультат:')\n",
    "        print(f'Полка добавлена. Текущий перечень полок: {list(directories.keys())}')\n",
    "\n",
    "def ds_command(number):\n",
    "    for shelf_directories in directories.items():\n",
    "        for doc_numbers in shelf_directories[1]:\n",
    "            print('\\nРезультат:')\n",
    "            print(f'Полка удалена. Текущий перечень полок: {list(directories.keys())}')\n",
    "            break\n",
    "    else:\n",
    "        print('\\nРезультат:')\n",
    "        print(f'Такой полки не существует. Текущий перечень полок: {list(directories.keys())}')\n",
    "\n",
    "while True:\n",
    "    command = input('\\nВведите команду: ')\n",
    "    if command == 'p':\n",
    "        people(input('\\nВведите номер документа:'))\n",
    "    elif command == 's':\n",
    "        shelf(input('\\nВведите номер документа:'))\n",
    "    elif command == 'l':\n",
    "        people_list()\n",
    "    elif command == 'as':\n",
    "        as_command(input('\\nВведите номер полки:'))\n",
    "    elif command == 'ds':\n",
    "        ds_command(input('\\nВведите номер полки:')) # ни как не смог разобраться с этой функции\n",
    "    elif command == 'q':\n",
    "        break\n",
    "    else:\n",
    "        print('Вы ввели некорректную команду, повторите ввод.')"
   ]
  },
  {
   "cell_type": "code",
   "execution_count": 5,
   "metadata": {
    "cocalc": {
     "outputs": {
      "0": {
       "name": "input",
       "opts": {
        "password": false,
        "prompt": "Введите номер документа, который хотите удалить: "
       },
       "output_type": "stream",
       "value": "5"
      }
     }
    },
    "collapsed": false
   },
   "outputs": [
    {
     "name": "stdout",
     "output_type": "stream",
     "text": "Введите номер документа, который хотите удалить:  5"
    }
   ],
   "source": [
    "def d(doc_number):\n",
    "    initial_len = len(directories)\n",
    "    for i, d in enumerate(directories):\n",
    "        if d[\"number\"] == doc_number:\n",
    "            directories.pop(i)\n",
    "\n",
    "    if initial_len == len(directories):\n",
    "        return \"Документ не существует\"\n",
    "\n",
    "    for key, value in directories.items():\n",
    "        if doc_number in value:\n",
    "            value.remove(doc_number)\n",
    "\n",
    "    return \"Документ успешно удален\"\n",
    "\n",
    "doc_number = input(\"Введите номер документа, который хотите удалить: \")\n",
    "# print(d(doc_number))\n",
    "# print(documents)\n",
    "# print(directories)"
   ]
  }
 ],
 "metadata": {
  "kernelspec": {
   "display_name": "Python 3 (system-wide)",
   "language": "python",
   "metadata": {
    "cocalc": {
     "description": "Python 3 programming language",
     "priority": 100,
     "url": "https://www.python.org/"
    }
   },
   "name": "python3"
  },
  "language_info": {
   "codemirror_mode": {
    "name": "ipython",
    "version": 3
   },
   "file_extension": ".py",
   "mimetype": "text/x-python",
   "name": "python",
   "nbconvert_exporter": "python",
   "pygments_lexer": "ipython3",
   "version": "3.6.9"
  }
 },
 "nbformat": 4,
 "nbformat_minor": 4
}